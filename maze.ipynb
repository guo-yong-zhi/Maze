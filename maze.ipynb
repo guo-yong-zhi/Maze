{
 "cells": [
  {
   "cell_type": "code",
   "execution_count": 203,
   "metadata": {
    "collapsed": true
   },
   "outputs": [],
   "source": [
    "%matplotlib inline\n",
    "from scilab import *"
   ]
  },
  {
   "cell_type": "code",
   "execution_count": 204,
   "metadata": {},
   "outputs": [],
   "source": [
    "import random  \n",
    "import numpy as np  \n",
    "from matplotlib import pyplot as plt  \n",
    "\n",
    "def mazeGen_BrkCir(num_rows=20, num_cols=20):  \n",
    "    \n",
    "    LEFT, UP, RIGHT, DOWN = 0,1,2,3\n",
    "    M = np.ones((num_rows,num_cols,4), dtype=np.uint8)\n",
    "    M[0,:,UP] = 0\n",
    "    M[-1,:,DOWN] = 0\n",
    "    M[:,0,LEFT] = 0\n",
    "    M[:,-1,RIGHT] = 0\n",
    "\n",
    "    class maze_graph_rec:\n",
    "        def __init__(self, matrix):\n",
    "            self.M = matrix\n",
    "            num_rows,num_cols = matrix.shape[:2]\n",
    "            self.vertices = [array((r,c)) for r in range(num_rows) for c in range(num_cols)]\n",
    "\n",
    "        def edgesOf(self, v):\n",
    "            neis = self.M[(*v,)]\n",
    "            deltas = np.array([[0,-1],[-1,0],[0,1],[1,0]])\n",
    "\n",
    "            return [v + d for d in deltas[neis==1]]\n",
    "\n",
    "        def remove_edge(self, v1, v2):\n",
    "            delta = (*(v2 - v1),)\n",
    "            memmap = {(0,-1):0,(-1,0):1,(0,1):2,(1,0):3}\n",
    "            ind = memmap[delta]\n",
    "            self.M[(*v1,)][ind] = 0\n",
    "\n",
    "            delta = (*(v1 - v2),)\n",
    "            ind = memmap[delta]\n",
    "            self.M[(*v2,)][ind] = 0\n",
    "\n",
    "        @property\n",
    "        def edges(self):\n",
    "            def half_edges(v):\n",
    "                neis = self.M[(*v,)][:2]\n",
    "                deltas = np.array([[0,-1],[-1,0]])\n",
    "                return [v + d for d in deltas[neis==1]]\n",
    "            edges = [(v,n) for v in self.vertices for n in half_edges(v)]\n",
    "            return edges\n",
    "\n",
    "    G = maze_graph_rec(M)\n",
    "    edges_in_circle = [(tuple(v1),tuple(v2)) for v1,v2 in G.edges]\n",
    "\n",
    "    M_temp = M.copy()\n",
    "    G_temp = maze_graph_rec(M_temp)\n",
    "\n",
    "    def check_in_circle(v, G):\n",
    "        neis = G.edgesOf(v)\n",
    "        tv = tuple(v)\n",
    "        if len(neis) == 1:\n",
    "            tnei = tuple(neis[0])\n",
    "            print(tv, \"has one nei \", tnei)\n",
    "            sucess = False\n",
    "            try:\n",
    "                edges_in_circle.remove((tv, tnei))\n",
    "                sucess = True\n",
    "            except:pass\n",
    "            try:\n",
    "                edges_in_circle.remove((tnei,tv))\n",
    "                sucess = True\n",
    "            except:pass\n",
    "            \n",
    "            assert(sucess)\n",
    "\n",
    "            G.remove_edge(v, neis[0])\n",
    "            print(len(G.edges), \"edges in circle(graph)\")\n",
    "            print(len(edges_in_circle), \"edges in circle(list)\")\n",
    "            check_in_circle(neis[0], G)\n",
    "\n",
    "    while edges_in_circle:\n",
    "        print(\"\\n\",len(edges_in_circle), \"edges\")\n",
    "        ie = random.randint(0, len(edges_in_circle)-1)\n",
    "\n",
    "        tv1, tv2 = edges_in_circle.pop(ie)\n",
    "        print(\"choice edge: \",tv1,tv2)\n",
    "        v1 = array(tv1)\n",
    "        v2 = array(tv2)\n",
    "        G.remove_edge(v1,v2)\n",
    "        G_temp.remove_edge(v1,v2)\n",
    "\n",
    "        check_in_circle(v1, G_temp)\n",
    "        check_in_circle(v2, G_temp)\n",
    "\n",
    "    M[0,0,0] = 1  \n",
    "    M[num_rows-1,num_cols-1,2] = 1  \n",
    "\n",
    "    # Generate the image for display  \n",
    "    image = np.zeros((num_rows*10,num_cols*10), dtype=np.uint8)\n",
    "    for row in range(0,num_rows):  \n",
    "        for col in range(0,num_cols):  \n",
    "            cell_data = M[row,col]  \n",
    "            for i in range(10*row+2,10*row+8):  \n",
    "                image[i,range(10*col+2,10*col+8)] = 255  \n",
    "            if cell_data[0] == 1:   \n",
    "                image[range(10*row+2,10*row+8),10*col] = 255  \n",
    "                image[range(10*row+2,10*row+8),10*col+1] = 255  \n",
    "            if cell_data[1] == 1:   \n",
    "                image[10*row,range(10*col+2,10*col+8)] = 255  \n",
    "                image[10*row+1,range(10*col+2,10*col+8)] = 255  \n",
    "            if cell_data[2] == 1:   \n",
    "                image[range(10*row+2,10*row+8),10*col+9] = 255  \n",
    "                image[range(10*row+2,10*row+8),10*col+8] = 255  \n",
    "            if cell_data[3] == 1:   \n",
    "                image[10*row+9,range(10*col+2,10*col+8)] = 255  \n",
    "                image[10*row+8,range(10*col+2,10*col+8)] = 255  \n",
    "\n",
    "    import matplotlib.cm as cm  \n",
    "    # Display the image  \n",
    "    plt.imshow(image, cmap = cm.Greys_r, interpolation='none')  \n",
    "    plt.show()\n",
    "    \n",
    "    return image"
   ]
  },
  {
   "cell_type": "code",
   "execution_count": 205,
   "metadata": {
    "scrolled": false
   },
   "outputs": [
    {
     "name": "stdout",
     "output_type": "stream",
     "text": [
      "\n",
      " 40 edges\n",
      "choice edge:  (0, 4) (0, 3)\n",
      "(0, 4) has one nei  (1, 4)\n",
      "38 edges in circle(graph)\n",
      "38 edges in circle(list)\n",
      "\n",
      " 38 edges\n",
      "choice edge:  (4, 4) (4, 3)\n",
      "(4, 4) has one nei  (3, 4)\n",
      "36 edges in circle(graph)\n",
      "36 edges in circle(list)\n",
      "\n",
      " 36 edges\n",
      "choice edge:  (2, 1) (2, 0)\n",
      "\n",
      " 35 edges\n",
      "choice edge:  (2, 3) (1, 3)\n",
      "\n",
      " 34 edges\n",
      "choice edge:  (1, 0) (0, 0)\n",
      "(0, 0) has one nei  (0, 1)\n",
      "32 edges in circle(graph)\n",
      "32 edges in circle(list)\n",
      "\n",
      " 32 edges\n",
      "choice edge:  (4, 0) (3, 0)\n",
      "(4, 0) has one nei  (4, 1)\n",
      "30 edges in circle(graph)\n",
      "30 edges in circle(list)\n",
      "\n",
      " 30 edges\n",
      "choice edge:  (4, 3) (3, 3)\n",
      "(4, 3) has one nei  (4, 2)\n",
      "28 edges in circle(graph)\n",
      "28 edges in circle(list)\n",
      "\n",
      " 28 edges\n",
      "choice edge:  (1, 4) (1, 3)\n",
      "(1, 4) has one nei  (2, 4)\n",
      "26 edges in circle(graph)\n",
      "26 edges in circle(list)\n",
      "\n",
      " 26 edges\n",
      "choice edge:  (3, 2) (3, 1)\n",
      "\n",
      " 25 edges\n",
      "choice edge:  (3, 1) (2, 1)\n",
      "\n",
      " 24 edges\n",
      "choice edge:  (4, 2) (4, 1)\n",
      "(4, 2) has one nei  (3, 2)\n",
      "22 edges in circle(graph)\n",
      "22 edges in circle(list)\n",
      "(4, 1) has one nei  (3, 1)\n",
      "21 edges in circle(graph)\n",
      "21 edges in circle(list)\n",
      "(3, 1) has one nei  (3, 0)\n",
      "20 edges in circle(graph)\n",
      "20 edges in circle(list)\n",
      "(3, 0) has one nei  (2, 0)\n",
      "19 edges in circle(graph)\n",
      "19 edges in circle(list)\n",
      "(2, 0) has one nei  (1, 0)\n",
      "18 edges in circle(graph)\n",
      "18 edges in circle(list)\n",
      "(1, 0) has one nei  (1, 1)\n",
      "17 edges in circle(graph)\n",
      "17 edges in circle(list)\n",
      "\n",
      " 17 edges\n",
      "choice edge:  (1, 2) (0, 2)\n",
      "\n",
      " 16 edges\n",
      "choice edge:  (2, 3) (2, 2)\n",
      "\n",
      " 15 edges\n",
      "choice edge:  (3, 4) (2, 4)\n",
      "(3, 4) has one nei  (3, 3)\n",
      "13 edges in circle(graph)\n",
      "13 edges in circle(list)\n",
      "(2, 4) has one nei  (2, 3)\n",
      "12 edges in circle(graph)\n",
      "12 edges in circle(list)\n",
      "(2, 3) has one nei  (3, 3)\n",
      "11 edges in circle(graph)\n",
      "11 edges in circle(list)\n",
      "(3, 3) has one nei  (3, 2)\n",
      "10 edges in circle(graph)\n",
      "10 edges in circle(list)\n",
      "(3, 2) has one nei  (2, 2)\n",
      "9 edges in circle(graph)\n",
      "9 edges in circle(list)\n",
      "\n",
      " 9 edges\n",
      "choice edge:  (0, 2) (0, 1)\n",
      "(0, 2) has one nei  (0, 3)\n",
      "7 edges in circle(graph)\n",
      "7 edges in circle(list)\n",
      "(0, 3) has one nei  (1, 3)\n",
      "6 edges in circle(graph)\n",
      "6 edges in circle(list)\n",
      "(1, 3) has one nei  (1, 2)\n",
      "5 edges in circle(graph)\n",
      "5 edges in circle(list)\n",
      "(0, 1) has one nei  (1, 1)\n",
      "4 edges in circle(graph)\n",
      "4 edges in circle(list)\n",
      "\n",
      " 4 edges\n",
      "choice edge:  (2, 2) (2, 1)\n",
      "(2, 2) has one nei  (1, 2)\n",
      "2 edges in circle(graph)\n",
      "2 edges in circle(list)\n",
      "(1, 2) has one nei  (1, 1)\n",
      "1 edges in circle(graph)\n",
      "1 edges in circle(list)\n",
      "(1, 1) has one nei  (2, 1)\n",
      "0 edges in circle(graph)\n",
      "0 edges in circle(list)\n"
     ]
    },
    {
     "data": {
      "image/png": "[encoded data removed]",
      "text/plain": [
       "<matplotlib.figure.Figure at 0x1a335296f60>"
      ]
     },
     "metadata": {},
     "output_type": "display_data"
    }
   ],
   "source": [
    "mazeGen_BrkCir(5,5);"
   ]
  },
  {
   "cell_type": "code",
   "execution_count": 179,
   "metadata": {},
   "outputs": [
    {
     "ename": "NameError",
     "evalue": "name '_176' is not defined",
     "output_type": "error",
     "traceback": [
      "\u001b[1;31m---------------------------------------------------------------------------\u001b[0m",
      "\u001b[1;31mNameError\u001b[0m                                 Traceback (most recent call last)",
      "\u001b[1;32m<ipython-input-179-caf329c45565>\u001b[0m in \u001b[0;36m<module>\u001b[1;34m()\u001b[0m\n\u001b[1;32m----> 1\u001b[1;33m \u001b[0m_176\u001b[0m\u001b[1;33m\u001b[0m\u001b[0m\n\u001b[0m",
      "\u001b[1;31mNameError\u001b[0m: name '_176' is not defined"
     ]
    }
   ],
   "source": [
    "_176"
   ]
  },
  {
   "cell_type": "code",
   "execution_count": 206,
   "metadata": {},
   "outputs": [
    {
     "data": {
      "text/plain": [
       "[array([11,  1])]"
      ]
     },
     "execution_count": 206,
     "metadata": {},
     "output_type": "execute_result"
    }
   ],
   "source": [
    "G.edgesOf(v1)"
   ]
  },
  {
   "cell_type": "code",
   "execution_count": 207,
   "metadata": {},
   "outputs": [],
   "source": [
    "a = 1"
   ]
  },
  {
   "cell_type": "code",
   "execution_count": 208,
   "metadata": {},
   "outputs": [
    {
     "data": {
      "text/plain": [
       "2"
      ]
     },
     "execution_count": 208,
     "metadata": {},
     "output_type": "execute_result"
    }
   ],
   "source": [
    "random.randint(0,2)"
   ]
  },
  {
   "cell_type": "code",
   "execution_count": 242,
   "metadata": {},
   "outputs": [],
   "source": [
    "vers_in_circle.pop?"
   ]
  },
  {
   "cell_type": "code",
   "execution_count": 236,
   "metadata": {},
   "outputs": [
    {
     "data": {
      "text/plain": [
       "[array([7, 2]), array([6, 3]), array([7, 4]), array([8, 3])]"
      ]
     },
     "execution_count": 236,
     "metadata": {},
     "output_type": "execute_result"
    }
   ],
   "source": [
    "G.edgesOf(v)"
   ]
  },
  {
   "cell_type": "code",
   "execution_count": 238,
   "metadata": {},
   "outputs": [
    {
     "data": {
      "text/plain": [
       "((7, 3), array([6, 3]))"
      ]
     },
     "execution_count": 238,
     "metadata": {},
     "output_type": "execute_result"
    }
   ],
   "source": [
    "v,e"
   ]
  },
  {
   "cell_type": "code",
   "execution_count": 229,
   "metadata": {},
   "outputs": [
    {
     "data": {
      "text/plain": [
       "3"
      ]
     },
     "execution_count": 229,
     "metadata": {},
     "output_type": "execute_result"
    }
   ],
   "source": [
    "len(G.edgesOf((1,1)))"
   ]
  },
  {
   "cell_type": "code",
   "execution_count": 237,
   "metadata": {},
   "outputs": [
    {
     "ename": "TypeError",
     "evalue": "unsupported operand type(s) for -: 'tuple' and 'tuple'",
     "output_type": "error",
     "traceback": [
      "\u001b[1;31m---------------------------------------------------------------------------\u001b[0m",
      "\u001b[1;31mTypeError\u001b[0m                                 Traceback (most recent call last)",
      "\u001b[1;32m<ipython-input-237-d047803edf93>\u001b[0m in \u001b[0;36m<module>\u001b[1;34m()\u001b[0m\n\u001b[1;32m----> 1\u001b[1;33m \u001b[0mG\u001b[0m\u001b[1;33m.\u001b[0m\u001b[0mremove_edge\u001b[0m\u001b[1;33m(\u001b[0m\u001b[1;33m(\u001b[0m\u001b[1;36m1\u001b[0m\u001b[1;33m,\u001b[0m\u001b[1;36m0\u001b[0m\u001b[1;33m)\u001b[0m\u001b[1;33m,\u001b[0m\u001b[1;33m(\u001b[0m\u001b[1;36m1\u001b[0m\u001b[1;33m,\u001b[0m\u001b[1;36m1\u001b[0m\u001b[1;33m)\u001b[0m\u001b[1;33m)\u001b[0m\u001b[1;33m\u001b[0m\u001b[0m\n\u001b[0m",
      "\u001b[1;32m<ipython-input-233-1befbb92f4af>\u001b[0m in \u001b[0;36mremove_edge\u001b[1;34m(self, v1, v2)\u001b[0m\n\u001b[0;32m     25\u001b[0m \u001b[1;33m\u001b[0m\u001b[0m\n\u001b[0;32m     26\u001b[0m     \u001b[1;32mdef\u001b[0m \u001b[0mremove_edge\u001b[0m\u001b[1;33m(\u001b[0m\u001b[0mself\u001b[0m\u001b[1;33m,\u001b[0m \u001b[0mv1\u001b[0m\u001b[1;33m,\u001b[0m \u001b[0mv2\u001b[0m\u001b[1;33m)\u001b[0m\u001b[1;33m:\u001b[0m\u001b[1;33m\u001b[0m\u001b[0m\n\u001b[1;32m---> 27\u001b[1;33m         \u001b[0mdelta\u001b[0m \u001b[1;33m=\u001b[0m \u001b[1;33m(\u001b[0m\u001b[1;33m*\u001b[0m\u001b[1;33m(\u001b[0m\u001b[0mv2\u001b[0m \u001b[1;33m-\u001b[0m \u001b[0mv1\u001b[0m\u001b[1;33m)\u001b[0m\u001b[1;33m,\u001b[0m\u001b[1;33m)\u001b[0m\u001b[1;33m\u001b[0m\u001b[0m\n\u001b[0m\u001b[0;32m     28\u001b[0m         \u001b[0mmemmap\u001b[0m \u001b[1;33m=\u001b[0m \u001b[1;33m{\u001b[0m\u001b[1;33m(\u001b[0m\u001b[1;36m0\u001b[0m\u001b[1;33m,\u001b[0m\u001b[1;33m-\u001b[0m\u001b[1;36m1\u001b[0m\u001b[1;33m)\u001b[0m\u001b[1;33m:\u001b[0m\u001b[1;36m0\u001b[0m\u001b[1;33m,\u001b[0m\u001b[1;33m(\u001b[0m\u001b[1;33m-\u001b[0m\u001b[1;36m1\u001b[0m\u001b[1;33m,\u001b[0m\u001b[1;36m0\u001b[0m\u001b[1;33m)\u001b[0m\u001b[1;33m:\u001b[0m\u001b[1;36m1\u001b[0m\u001b[1;33m,\u001b[0m\u001b[1;33m(\u001b[0m\u001b[1;36m0\u001b[0m\u001b[1;33m,\u001b[0m\u001b[1;36m1\u001b[0m\u001b[1;33m)\u001b[0m\u001b[1;33m:\u001b[0m\u001b[1;36m2\u001b[0m\u001b[1;33m,\u001b[0m\u001b[1;33m(\u001b[0m\u001b[1;36m1\u001b[0m\u001b[1;33m,\u001b[0m\u001b[1;36m0\u001b[0m\u001b[1;33m)\u001b[0m\u001b[1;33m:\u001b[0m\u001b[1;36m3\u001b[0m\u001b[1;33m}\u001b[0m\u001b[1;33m\u001b[0m\u001b[0m\n\u001b[0;32m     29\u001b[0m         \u001b[0mind\u001b[0m \u001b[1;33m=\u001b[0m \u001b[0mmemmap\u001b[0m\u001b[1;33m[\u001b[0m\u001b[0mdelta\u001b[0m\u001b[1;33m]\u001b[0m\u001b[1;33m\u001b[0m\u001b[0m\n",
      "\u001b[1;31mTypeError\u001b[0m: unsupported operand type(s) for -: 'tuple' and 'tuple'"
     ]
    }
   ],
   "source": [
    "G.remove_edge((1,0),(1,1))"
   ]
  },
  {
   "cell_type": "code",
   "execution_count": 61,
   "metadata": {
    "collapsed": true
   },
   "outputs": [],
   "source": [
    "import random  \n",
    "import numpy as np  \n",
    "from matplotlib import pyplot as plt  \n",
    "import matplotlib.cm as cm  \n",
    "def mazeGen_Prim(num_rows=20, num_cols=20):  \n",
    "\n",
    "    # The array M is going to hold the array information for each cell.  \n",
    "    # The first four coordinates tell if walls exist on those sides   \n",
    "    # and the fifth indicates if the cell has been visited in the search.  \n",
    "    # M(LEFT, UP, RIGHT, DOWN, CHECK_IF_VISITED)  \n",
    "    M = np.zeros((num_rows,num_cols,5), dtype=np.uint8)  \n",
    "\n",
    "    # The array image is going to be the output image to display  \n",
    "    image = np.zeros((num_rows*10,num_cols*10), dtype=np.uint8)  \n",
    "\n",
    "    # Set starting row and column  \n",
    "    r = 0  \n",
    "    c = 0  \n",
    "    history = [(r,c)] # The history is the stack of visited locations  \n",
    "\n",
    "    # Trace a path though the cells of the maze and open walls along the path.  \n",
    "    # We do this with a while loop, repeating the loop until there is no history,   \n",
    "    # which would mean we backtracked to the initial start.  \n",
    "    while history:   \n",
    "        #random choose a candidata cell from the cell set histroy  \n",
    "        r,c = random.choice(history)  \n",
    "        M[r,c,4] = 1 # designate this location as visited  \n",
    "        history.remove((r,c))  \n",
    "        check = []  \n",
    "        # If the randomly chosen cell has multiple edges   \n",
    "        # that connect it to the existing maze,   \n",
    "        if c > 0:  \n",
    "            if M[r,c-1,4] == 1:  \n",
    "                check.append('L')  \n",
    "            elif M[r,c-1,4] == 0:  \n",
    "                history.append((r,c-1))  \n",
    "                M[r,c-1,4] = 2  \n",
    "        if r > 0:  \n",
    "            if M[r-1,c,4] == 1:   \n",
    "                check.append('U')   \n",
    "            elif M[r-1,c,4] == 0:  \n",
    "                history.append((r-1,c))  \n",
    "                M[r-1,c,4] = 2  \n",
    "        if c < num_cols-1:  \n",
    "            if M[r,c+1,4] == 1:   \n",
    "                check.append('R')  \n",
    "            elif M[r,c+1,4] == 0:  \n",
    "                history.append((r,c+1))  \n",
    "                M[r,c+1,4] = 2   \n",
    "        if r < num_rows-1:  \n",
    "            if M[r+1,c,4] == 1:   \n",
    "                check.append('D')   \n",
    "            elif  M[r+1,c,4] == 0:  \n",
    "                history.append((r+1,c))  \n",
    "                M[r+1,c,4] = 2  \n",
    "\n",
    "        # select one of these edges at random.  \n",
    "        if len(check):  \n",
    "            move_direction = random.choice(check)  \n",
    "            if move_direction == 'L':  \n",
    "                M[r,c,0] = 1  \n",
    "                c = c-1  \n",
    "                M[r,c,2] = 1  \n",
    "            if move_direction == 'U':  \n",
    "                M[r,c,1] = 1  \n",
    "                r = r-1  \n",
    "                M[r,c,3] = 1  \n",
    "            if move_direction == 'R':  \n",
    "                M[r,c,2] = 1  \n",
    "                c = c+1  \n",
    "                M[r,c,0] = 1  \n",
    "            if move_direction == 'D':  \n",
    "                M[r,c,3] = 1  \n",
    "                r = r+1  \n",
    "                M[r,c,1] = 1  \n",
    "\n",
    "    # Open the walls at the start and finish  \n",
    "    M[0,0,0] = 1  \n",
    "    M[num_rows-1,num_cols-1,2] = 1  \n",
    "\n",
    "    # Generate the image for display  \n",
    "    for row in range(0,num_rows):  \n",
    "        for col in range(0,num_cols):  \n",
    "            cell_data = M[row,col]  \n",
    "            for i in range(10*row+2,10*row+8):  \n",
    "                image[i,range(10*col+2,10*col+8)] = 255  \n",
    "            if cell_data[0] == 1:   \n",
    "                image[range(10*row+2,10*row+8),10*col] = 255  \n",
    "                image[range(10*row+2,10*row+8),10*col+1] = 255  \n",
    "            if cell_data[1] == 1:   \n",
    "                image[10*row,range(10*col+2,10*col+8)] = 255  \n",
    "                image[10*row+1,range(10*col+2,10*col+8)] = 255  \n",
    "            if cell_data[2] == 1:   \n",
    "                image[range(10*row+2,10*row+8),10*col+9] = 255  \n",
    "                image[range(10*row+2,10*row+8),10*col+8] = 255  \n",
    "            if cell_data[3] == 1:   \n",
    "                image[10*row+9,range(10*col+2,10*col+8)] = 255  \n",
    "                image[10*row+8,range(10*col+2,10*col+8)] = 255  \n",
    "\n",
    "\n",
    "    # Display the image  \n",
    "    plt.imshow(image, cmap = cm.Greys_r, interpolation='none')  \n",
    "    plt.show()\n",
    "    return image"
   ]
  },
  {
   "cell_type": "code",
   "execution_count": 62,
   "metadata": {
    "collapsed": true
   },
   "outputs": [],
   "source": [
    "# Code by jollysoul  \n",
    "  \n",
    "import random  \n",
    "import numpy as np  \n",
    "from matplotlib import pyplot as plt  \n",
    "import matplotlib.cm as cm  \n",
    "def mazeGen_ReBT(num_rows=20, num_cols=20):        \n",
    "  \n",
    "    # The array M is going to hold the array information for each cell.  \n",
    "    # The first four coordinates tell if walls exist on those sides   \n",
    "    # and the fifth indicates if the cell has been visited in the search.  \n",
    "    # M(LEFT, UP, RIGHT, DOWN, CHECK_IF_VISITED)  \n",
    "    M = np.zeros((num_rows,num_cols,5), dtype=np.uint8)  \n",
    "      \n",
    "    # The array image is going to be the output image to display  \n",
    "    image = np.zeros((num_rows*10,num_cols*10), dtype=np.uint8)  \n",
    "      \n",
    "    # Set starting row and column  \n",
    "    r = 0  \n",
    "    c = 0  \n",
    "    history = [(r,c)] # The history is the stack of visited locations  \n",
    "      \n",
    "    # Trace a path though the cells of the maze and open walls along the path.  \n",
    "    # We do this with a while loop, repeating the loop until there is no history,   \n",
    "    # which would mean we backtracked to the initial start.  \n",
    "    while history:   \n",
    "        M[r,c,4] = 1 # designate this location as visited  \n",
    "        # check if the adjacent cells are valid for moving to  \n",
    "        check = []  \n",
    "        if c > 0 and M[r,c-1,4] == 0:  \n",
    "            check.append('L')    \n",
    "        if r > 0 and M[r-1,c,4] == 0:  \n",
    "            check.append('U')  \n",
    "        if c < num_cols-1 and M[r,c+1,4] == 0:  \n",
    "            check.append('R')  \n",
    "        if r < num_rows-1 and M[r+1,c,4] == 0:  \n",
    "            check.append('D')      \n",
    "          \n",
    "        if len(check): # If there is a valid cell to move to.  \n",
    "            # Mark the walls between cells as open if we move  \n",
    "            history.append([r,c])  \n",
    "            move_direction = random.choice(check)  \n",
    "            if move_direction == 'L':  \n",
    "                M[r,c,0] = 1  \n",
    "                c = c-1  \n",
    "                M[r,c,2] = 1  \n",
    "            if move_direction == 'U':  \n",
    "                M[r,c,1] = 1  \n",
    "                r = r-1  \n",
    "                M[r,c,3] = 1  \n",
    "            if move_direction == 'R':  \n",
    "                M[r,c,2] = 1  \n",
    "                c = c+1  \n",
    "                M[r,c,0] = 1  \n",
    "            if move_direction == 'D':  \n",
    "                M[r,c,3] = 1  \n",
    "                r = r+1  \n",
    "                M[r,c,1] = 1  \n",
    "        else: # If there are no valid cells to move to.  \n",
    "        # retrace one step back in history if no move is possible  \n",
    "            r,c = history.pop()  \n",
    "          \n",
    "               \n",
    "    # Open the walls at the start and finish  \n",
    "    M[0,0,0] = 1  \n",
    "    M[num_rows-1,num_cols-1,2] = 1  \n",
    "          \n",
    "    # Generate the image for display  \n",
    "    for row in range(0,num_rows):  \n",
    "        for col in range(0,num_cols):  \n",
    "            cell_data = M[row,col]  \n",
    "            for i in range(10*row+2,10*row+8):  \n",
    "                image[i,range(10*col+2,10*col+8)] = 255  \n",
    "            if cell_data[0] == 1:   \n",
    "                image[range(10*row+2,10*row+8),10*col] = 255  \n",
    "                image[range(10*row+2,10*row+8),10*col+1] = 255  \n",
    "            if cell_data[1] == 1:   \n",
    "                image[10*row,range(10*col+2,10*col+8)] = 255  \n",
    "                image[10*row+1,range(10*col+2,10*col+8)] = 255  \n",
    "            if cell_data[2] == 1:   \n",
    "                image[range(10*row+2,10*row+8),10*col+9] = 255  \n",
    "                image[range(10*row+2,10*row+8),10*col+8] = 255  \n",
    "            if cell_data[3] == 1:   \n",
    "                image[10*row+9,range(10*col+2,10*col+8)] = 255  \n",
    "                image[10*row+8,range(10*col+2,10*col+8)] = 255  \n",
    "              \n",
    "      \n",
    "    # Display the image  \n",
    "    plt.imshow(image, cmap = cm.Greys_r, interpolation='none')  \n",
    "    plt.show()\n",
    "    \n",
    "    return image"
   ]
  },
  {
   "cell_type": "code",
   "execution_count": 63,
   "metadata": {
    "collapsed": true
   },
   "outputs": [],
   "source": [
    "# Code by jollysoul  \n",
    "  \n",
    "import random  \n",
    "import numpy as np  \n",
    "from matplotlib import pyplot as plt  \n",
    "import matplotlib.cm as cm  \n",
    "  \n",
    "#这个函数将当前区域划分为四个小区域，并随机的在三个区域挖洞，  \n",
    "#让四个区域彼此联通，分隔与挖洞点都是随机生成的。  \n",
    "def Recursive_division(r1, r2, c1, c2, M, image):  \n",
    "    if r1 < r2 and c1 < c2:  \n",
    "        rm = random.randint(r1, r2-1)  \n",
    "        cm = random.randint(c1, c2-1)  \n",
    "        cd1 = random.randint(c1,cm)  \n",
    "        cd2 = random.randint(cm+1,c2)  \n",
    "        rd1 = random.randint(r1,rm)  \n",
    "        rd2 = random.randint(rm+1,r2)  \n",
    "        d = random.randint(1,4)  \n",
    "        if d == 1:  \n",
    "            M[rd2, cm, 2] = 1  \n",
    "            M[rd2, cm+1, 0] = 1  \n",
    "            M[rm, cd1, 3] = 1  \n",
    "            M[rm+1, cd1, 1] = 1  \n",
    "            M[rm, cd2, 3] = 1  \n",
    "            M[rm+1, cd2, 1] = 1  \n",
    "        elif d == 2:  \n",
    "            M[rd1, cm, 2] = 1  \n",
    "            M[rd1, cm+1, 0] = 1  \n",
    "            M[rm, cd1, 3] = 1  \n",
    "            M[rm+1, cd1, 1] = 1  \n",
    "            M[rm, cd2, 3] = 1  \n",
    "            M[rm+1, cd2, 1] = 1  \n",
    "        elif d == 3:  \n",
    "            M[rd1, cm, 2] = 1  \n",
    "            M[rd1, cm+1, 0] = 1  \n",
    "            M[rd2, cm, 2] = 1  \n",
    "            M[rd2, cm+1, 0] = 1  \n",
    "            M[rm, cd2, 3] = 1  \n",
    "            M[rm+1, cd2, 1] = 1  \n",
    "        elif d == 4:  \n",
    "            M[rd1, cm, 2] = 1  \n",
    "            M[rd1, cm+1, 0] = 1  \n",
    "            M[rd2, cm, 2] = 1  \n",
    "            M[rd2, cm+1, 0] = 1  \n",
    "            M[rm, cd1, 3] = 1  \n",
    "            M[rm+1, cd1, 1] = 1  \n",
    "  \n",
    "        Recursive_division(r1, rm, c1, cm, M, image)  \n",
    "        Recursive_division(r1, rm, cm+1, c2, M, image)  \n",
    "        Recursive_division(rm+1, r2, cm+1, c2, M, image)  \n",
    "        Recursive_division(rm+1, r2, c1, cm, M, image)  \n",
    "  \n",
    "    elif r1 < r2:  \n",
    "        rm = random.randint(r1, r2-1)  \n",
    "        M[rm,c1,3] = 1  \n",
    "        M[rm+1,c1,1] = 1  \n",
    "        Recursive_division(r1, rm, c1, c1, M, image)  \n",
    "        Recursive_division(rm+1, r2, c1, c1, M, image)  \n",
    "    elif c1 < c2:  \n",
    "        cm = random.randint(c1,c2-1)  \n",
    "        M[r1,cm,2] = 1  \n",
    "        M[r1,cm+1,0] = 1  \n",
    "        Recursive_division(r1, r1, c1, cm, M, image)  \n",
    "        Recursive_division(r1, r1, cm+1, c2, M, image)  \n",
    "\n",
    "        \n",
    "        \n",
    "def mazeGen_ReD(num_rows=20, num_cols=20):  \n",
    "    \n",
    "    r1 = 0  \n",
    "    r2 = num_rows-1  \n",
    "    c1 = 0  \n",
    "    c2 = num_cols-1  \n",
    "\n",
    "    # The array M is going to hold the array information for each cell.  \n",
    "    # The first four coordinates tell if walls exist on those sides   \n",
    "    # and the fifth indicates if the cell has been visited in the search.  \n",
    "    # M(LEFT, UP, RIGHT, DOWN, CHECK_IF_VISITED)  \n",
    "    M = np.zeros((num_rows,num_cols,5), dtype=np.uint8)  \n",
    "\n",
    "    # The array image is going to be the output image to display  \n",
    "    image = np.zeros((num_rows*10,num_cols*10), dtype=np.uint8)  \n",
    "\n",
    "    Recursive_division(r1, r2, c1, c2, M, image)    \n",
    "\n",
    "    # Open the walls at the start and finish  \n",
    "    M[0,0,0] = 1  \n",
    "    M[num_rows-1,num_cols-1,2] = 1  \n",
    "\n",
    "    # Generate the image for display  \n",
    "    for row in range(0,num_rows):  \n",
    "        for col in range(0,num_cols):  \n",
    "            cell_data = M[row,col]  \n",
    "            for i in range(10*row+2,10*row+8):  \n",
    "                image[i,range(10*col+2,10*col+8)] = 255  \n",
    "            if cell_data[0] == 1:   \n",
    "                image[range(10*row+2,10*row+8),10*col] = 255  \n",
    "                image[range(10*row+2,10*row+8),10*col+1] = 255  \n",
    "            if cell_data[1] == 1:   \n",
    "                image[10*row,range(10*col+2,10*col+8)] = 255  \n",
    "                image[10*row+1,range(10*col+2,10*col+8)] = 255  \n",
    "            if cell_data[2] == 1:   \n",
    "                image[range(10*row+2,10*row+8),10*col+9] = 255  \n",
    "                image[range(10*row+2,10*row+8),10*col+8] = 255  \n",
    "            if cell_data[3] == 1:   \n",
    "                image[10*row+9,range(10*col+2,10*col+8)] = 255  \n",
    "                image[10*row+8,range(10*col+2,10*col+8)] = 255  \n",
    "\n",
    "\n",
    "    # Display the image  \n",
    "    plt.imshow(image, cmap = cm.Greys_r, interpolation='none')  \n",
    "    plt.show()\n",
    "    \n",
    "    return image"
   ]
  },
  {
   "cell_type": "code",
   "execution_count": 8,
   "metadata": {
    "collapsed": true
   },
   "outputs": [
    {
     "data": {
      "image/png": "[encoded data removed]",
      "text/plain": [
       "<matplotlib.figure.Figure at 0x2097870e4a8>"
      ]
     },
     "metadata": {},
     "output_type": "display_data"
    },
    {
     "data": {
      "image/png": "[encoded data removed]",
      "text/plain": [
       "<matplotlib.figure.Figure at 0x2097870ea90>"
      ]
     },
     "metadata": {},
     "output_type": "display_data"
    },
    {
     "data": {
      "image/png": "[encoded data removed]",
      "text/plain": [
       "<matplotlib.figure.Figure at 0x2097c10d390>"
      ]
     },
     "metadata": {},
     "output_type": "display_data"
    },
    {
     "data": {
      "text/plain": [
       "array([[  0,   0,   0, ...,   0,   0,   0],\n",
       "       [  0,   0,   0, ...,   0,   0,   0],\n",
       "       [255, 255, 255, ..., 255,   0,   0],\n",
       "       ..., \n",
       "       [  0,   0, 255, ..., 255, 255, 255],\n",
       "       [  0,   0,   0, ...,   0,   0,   0],\n",
       "       [  0,   0,   0, ...,   0,   0,   0]], dtype=uint8)"
      ]
     },
     "execution_count": 8,
     "metadata": {},
     "output_type": "execute_result"
    }
   ],
   "source": [
    "mazeGen_Prim()\n",
    "mazeGen_ReBT()\n",
    "mazeGen_ReD()"
   ]
  },
  {
   "cell_type": "code",
   "execution_count": 64,
   "metadata": {
    "collapsed": true
   },
   "outputs": [],
   "source": [
    "def standardize(im):\n",
    "    sim = np.roll(im, 1, axis=0)\n",
    "    mask = (sim == im).all(axis=1)\n",
    "    mask[0] = False\n",
    "    im = im[~mask]\n",
    "    \n",
    "    sim = np.roll(im, 1, axis=1)\n",
    "    mask = (sim == im).all(axis=0)\n",
    "    mask[0] = False\n",
    "    im = im[:,~mask]\n",
    "    return im"
   ]
  },
  {
   "cell_type": "code",
   "execution_count": 65,
   "metadata": {
    "collapsed": true
   },
   "outputs": [],
   "source": [
    "def neiPairsOf(idim, trans=-1, shift=None):\n",
    "\n",
    "    shift = shift or (lambda im,pairs:[np.roll(im,(d,r),axis=(0,1)) for d,r in pairs])\n",
    "    \n",
    "    def toNeiPairs(a, b):\n",
    "        a = a.reshape(-1, 1)\n",
    "        b = b.reshape(-1, 1)\n",
    "        pairs = np.hstack([a,b])\n",
    "        pairs = pairs[pairs[:,0] != trans]\n",
    "        pairs = pairs[pairs[:,1] != trans]\n",
    "        return pairs\n",
    "    \n",
    "    neiPairs = [toNeiPairs(idim, neimage) for neimage in shift(idim, [(1,0),(0,1)])]\n",
    "        \n",
    "    return np.vstack(neiPairs)\n",
    "\n",
    "def to_id_image(im, transOld=0, transNew=-1):\n",
    "    idim = np.arange(im.ravel().shape[0]).reshape(im.shape)\n",
    "    idim[im==transOld] = transNew\n",
    "    return idim\n",
    "\n",
    "def toCoords(ids, shape):\n",
    "    ids = array(ids)\n",
    "    m,n = shape\n",
    "    r = ids // n\n",
    "    c = ids % n\n",
    "    return np.column_stack([r,c])\n",
    "\n",
    "def toIDs(coords, shape):\n",
    "    coords = array(coords)\n",
    "    m, n = shape\n",
    "    r, c = coords.T\n",
    "    if isinstance(r, np.ndarray):\n",
    "        r[r<0] += m\n",
    "        c[c<0] += n\n",
    "    else:\n",
    "        r = r if r>=0 else r + m\n",
    "        c = c if c>=0 else c + n\n",
    "        \n",
    "    return r * n + c\n",
    "\n",
    "def plotGroup(im, group):\n",
    "    plt.imshow(im)\n",
    "    \n",
    "    yx = toCoords(list(group), im.shape)\n",
    "    plot(yx[:,1],yx[:,0],'r.')\n",
    "    plt.axis(\"off\")\n",
    "    plt.show()"
   ]
  },
  {
   "cell_type": "code",
   "execution_count": 66,
   "metadata": {
    "collapsed": true
   },
   "outputs": [],
   "source": [
    "def shift_zeropadding(arr, disp_pairs):\n",
    "    h,w = arr.shape\n",
    "    paded = np.zeros((h+2,w+2), dtype=int)\n",
    "    paded[1:-1,1:-1] = arr\n",
    "    \n",
    "    shift = lambda d,r: paded[-d+1:-d+1+h, -r+1:-r+1+w]\n",
    "    return [shift(d,r) for d,r in disp_pairs]"
   ]
  },
  {
   "cell_type": "code",
   "execution_count": 67,
   "metadata": {
    "collapsed": true
   },
   "outputs": [],
   "source": [
    "from graph import graph"
   ]
  },
  {
   "cell_type": "code",
   "execution_count": 80,
   "metadata": {},
   "outputs": [
    {
     "data": {
      "image/png": "[encoded data removed]",
      "text/plain": [
       "<matplotlib.figure.Figure at 0x1a334ff3908>"
      ]
     },
     "metadata": {},
     "output_type": "display_data"
    }
   ],
   "source": [
    "mazeGen = mazeGen_BrkCir\n",
    "maze = mazeGen(10,10)"
   ]
  },
  {
   "cell_type": "code",
   "execution_count": 81,
   "metadata": {},
   "outputs": [
    {
     "data": {
      "image/png": "[encoded data removed]",
      "text/plain": [
       "<matplotlib.figure.Figure at 0x1a334ec5f60>"
      ]
     },
     "metadata": {},
     "output_type": "display_data"
    }
   ],
   "source": [
    "stdmaze = standardize(maze)\n",
    "idim = to_id_image(stdmaze)\n",
    "nepairs = neiPairsOf(idim, shift=shift_zeropadding)\n",
    "way = graph(nepairs).serch(toIDs((1,0), stdmaze.shape), toIDs((-2,-1), stdmaze.shape))\n",
    "plotGroup(stdmaze, way)"
   ]
  },
  {
   "cell_type": "code",
   "execution_count": 82,
   "metadata": {},
   "outputs": [
    {
     "data": {
      "text/plain": [
       "4"
      ]
     },
     "execution_count": 82,
     "metadata": {},
     "output_type": "execute_result"
    }
   ],
   "source": [
    "len(graph(nepairs).equivalence)"
   ]
  },
  {
   "cell_type": "code",
   "execution_count": 232,
   "metadata": {},
   "outputs": [
    {
     "data": {
      "text/plain": [
       "(100, 100)"
      ]
     },
     "execution_count": 232,
     "metadata": {},
     "output_type": "execute_result"
    }
   ],
   "source": [
    "maze.shape"
   ]
  },
  {
   "cell_type": "code",
   "execution_count": 78,
   "metadata": {
    "collapsed": true
   },
   "outputs": [],
   "source": [
    "plt.imsave(\"maze_rebt_80.png\", maze)"
   ]
  },
  {
   "cell_type": "code",
   "execution_count": 16,
   "metadata": {},
   "outputs": [
    {
     "data": {
      "text/plain": [
       "(-0.5, 60.5, 60.5, -0.5)"
      ]
     },
     "execution_count": 16,
     "metadata": {},
     "output_type": "execute_result"
    },
    {
     "data": {
      "image/png": "[encoded data removed]",
      "text/plain": [
       "<matplotlib.figure.Figure at 0x2097c830518>"
      ]
     },
     "metadata": {},
     "output_type": "display_data"
    }
   ],
   "source": [
    "plt.imshow(stdmaze, cmap = cm.Greys_r, interpolation='none')\n",
    "plt.axis(\"off\")"
   ]
  },
  {
   "cell_type": "code",
   "execution_count": 17,
   "metadata": {
    "collapsed": true
   },
   "outputs": [
    {
     "data": {
      "text/plain": [
       "(1801, 2)"
      ]
     },
     "execution_count": 17,
     "metadata": {},
     "output_type": "execute_result"
    }
   ],
   "source": [
    "nepairs.shape"
   ]
  },
  {
   "cell_type": "code",
   "execution_count": 97,
   "metadata": {
    "collapsed": true
   },
   "outputs": [],
   "source": [
    "am80 = plt.imread(r\"C:\\Users\\momos\\Desktop\\am80.png\")"
   ]
  },
  {
   "cell_type": "code",
   "execution_count": 98,
   "metadata": {},
   "outputs": [
    {
     "data": {
      "text/plain": [
       "(545, 1040, 4)"
      ]
     },
     "execution_count": 98,
     "metadata": {},
     "output_type": "execute_result"
    }
   ],
   "source": [
    "am80.shape"
   ]
  },
  {
   "cell_type": "code",
   "execution_count": 121,
   "metadata": {
    "collapsed": true
   },
   "outputs": [],
   "source": [
    "mask = am80[:,:,-1]!=0"
   ]
  },
  {
   "cell_type": "code",
   "execution_count": 122,
   "metadata": {},
   "outputs": [
    {
     "ename": "TypeError",
     "evalue": "reshape() takes exactly 1 argument (0 given)",
     "output_type": "error",
     "traceback": [
      "\u001b[1;31m---------------------------------------------------------------------------\u001b[0m",
      "\u001b[1;31mTypeError\u001b[0m                                 Traceback (most recent call last)",
      "\u001b[1;32m<ipython-input-122-843d04fc4458>\u001b[0m in \u001b[0;36m<module>\u001b[1;34m()\u001b[0m\n\u001b[1;32m----> 1\u001b[1;33m \u001b[0mam80\u001b[0m\u001b[1;33m[\u001b[0m\u001b[0mmask\u001b[0m\u001b[1;33m]\u001b[0m\u001b[1;33m.\u001b[0m\u001b[0mreshape\u001b[0m\u001b[1;33m(\u001b[0m\u001b[1;33m)\u001b[0m\u001b[1;33m\u001b[0m\u001b[0m\n\u001b[0m",
      "\u001b[1;31mTypeError\u001b[0m: reshape() takes exactly 1 argument (0 given)"
     ]
    }
   ],
   "source": [
    "am80[mask].reshape()"
   ]
  },
  {
   "cell_type": "code",
   "execution_count": 123,
   "metadata": {
    "collapsed": true
   },
   "outputs": [],
   "source": [
    "def standardizepng(im):\n",
    "    mask = (im[:,:,-1]==0).all(axis=1)\n",
    "    im = im[~mask]\n",
    "    \n",
    "    mask = (im[:,:,-1]==0).all(axis=0)\n",
    "    im = im[:,~mask]\n",
    "#     sim = np.roll(im, 1, axis=0)\n",
    "#     mask = (sim == im).all(axis=1)\n",
    "#     mask[0] = False\n",
    "#     im = im[~mask]\n",
    "    \n",
    "#     sim = np.roll(im, 1, axis=1)\n",
    "#     mask = (sim == im).all(axis=0)\n",
    "#     mask[0] = False\n",
    "#     im = im[:,~mask]\n",
    "    return im"
   ]
  },
  {
   "cell_type": "code",
   "execution_count": 124,
   "metadata": {},
   "outputs": [
    {
     "data": {
      "text/plain": [
       "(545, 1040, 4)"
      ]
     },
     "execution_count": 124,
     "metadata": {},
     "output_type": "execute_result"
    }
   ],
   "source": [
    "standardize(am80).shape"
   ]
  },
  {
   "cell_type": "code",
   "execution_count": 227,
   "metadata": {
    "collapsed": true
   },
   "outputs": [],
   "source": [
    "a = array([0,1,0,1, 0,0,0,1, 0,0,0,1, 0,0,0,0]).reshape(4,4)"
   ]
  },
  {
   "cell_type": "code",
   "execution_count": 228,
   "metadata": {},
   "outputs": [
    {
     "data": {
      "text/plain": [
       "array([[0, 1, 0, 1],\n",
       "       [0, 0, 0, 1],\n",
       "       [0, 0, 0, 1],\n",
       "       [0, 0, 0, 0]])"
      ]
     },
     "execution_count": 228,
     "metadata": {},
     "output_type": "execute_result"
    }
   ],
   "source": [
    "a"
   ]
  },
  {
   "cell_type": "code",
   "execution_count": 200,
   "metadata": {},
   "outputs": [
    {
     "data": {
      "text/plain": [
       "array([[0, 0, 0, 1],\n",
       "       [0, 0, 1, 0],\n",
       "       [0, 1, 0, 0],\n",
       "       [1, 0, 0, 0]])"
      ]
     },
     "execution_count": 200,
     "metadata": {},
     "output_type": "execute_result"
    }
   ],
   "source": [
    "a@a"
   ]
  },
  {
   "cell_type": "code",
   "execution_count": 201,
   "metadata": {},
   "outputs": [
    {
     "data": {
      "text/plain": [
       "array([[0, 0, 1, 0],\n",
       "       [1, 0, 0, 0],\n",
       "       [0, 0, 0, 1],\n",
       "       [0, 1, 0, 0]])"
      ]
     },
     "execution_count": 201,
     "metadata": {},
     "output_type": "execute_result"
    }
   ],
   "source": [
    "a@a@a"
   ]
  },
  {
   "cell_type": "code",
   "execution_count": 202,
   "metadata": {},
   "outputs": [
    {
     "data": {
      "text/plain": [
       "array([[1, 0, 0, 0],\n",
       "       [0, 1, 0, 0],\n",
       "       [0, 0, 1, 0],\n",
       "       [0, 0, 0, 1]])"
      ]
     },
     "execution_count": 202,
     "metadata": {},
     "output_type": "execute_result"
    }
   ],
   "source": [
    "a@a@a@a"
   ]
  },
  {
   "cell_type": "code",
   "execution_count": 209,
   "metadata": {
    "collapsed": true
   },
   "outputs": [],
   "source": [
    "from scipy.sparse.csgraph import floyd_warshall"
   ]
  },
  {
   "cell_type": "code",
   "execution_count": 218,
   "metadata": {},
   "outputs": [
    {
     "data": {
      "text/plain": [
       "array([[  0.,   1.,  inf,   1.],\n",
       "       [  1.,   0.,  inf,   1.],\n",
       "       [ inf,  inf,   0.,  inf],\n",
       "       [  1.,   1.,  inf,   0.]])"
      ]
     },
     "execution_count": 218,
     "metadata": {},
     "output_type": "execute_result"
    }
   ],
   "source": [
    "floyd_warshall(a, directed=False, unweighted=True)"
   ]
  },
  {
   "cell_type": "code",
   "execution_count": 221,
   "metadata": {},
   "outputs": [
    {
     "data": {
      "text/plain": [
       "True"
      ]
     },
     "execution_count": 221,
     "metadata": {},
     "output_type": "execute_result"
    }
   ],
   "source": [
    "np.isinf(_218).any()"
   ]
  },
  {
   "cell_type": "code",
   "execution_count": 223,
   "metadata": {},
   "outputs": [],
   "source": [
    "def isconnected(arr):\n",
    "    dist = floyd_warshall(arr, directed=False, unweighted=True)\n",
    "    return not np.isinf(dist).any()"
   ]
  },
  {
   "cell_type": "code",
   "execution_count": 231,
   "metadata": {},
   "outputs": [
    {
     "data": {
      "text/plain": [
       "True"
      ]
     },
     "execution_count": 231,
     "metadata": {},
     "output_type": "execute_result"
    }
   ],
   "source": [
    "isconnected(a)"
   ]
  },
  {
   "cell_type": "code",
   "execution_count": null,
   "metadata": {},
   "outputs": [],
   "source": []
  }
 ],
 "metadata": {
  "kernelspec": {
   "display_name": "Python 3",
   "language": "python",
   "name": "python3"
  },
  "language_info": {
   "codemirror_mode": {
    "name": "ipython",
    "version": 3
   },
   "file_extension": ".py",
   "mimetype": "text/x-python",
   "name": "python",
   "nbconvert_exporter": "python",
   "pygments_lexer": "ipython3",
   "version": "3.6.3"
  },
  "toc": {
   "colors": {
    "hover_highlight": "#DAA520",
    "navigate_num": "#000000",
    "navigate_text": "#333333",
    "running_highlight": "#FF0000",
    "selected_highlight": "#FFD700",
    "sidebar_border": "#EEEEEE",
    "wrapper_background": "#FFFFFF"
   },
   "moveMenuLeft": true,
   "nav_menu": {
    "height": "11px",
    "width": "251px"
   },
   "navigate_menu": true,
   "number_sections": true,
   "sideBar": true,
   "skip_h1_title": false,
   "threshold": 4,
   "toc_cell": false,
   "toc_section_display": "block",
   "toc_window_display": false,
   "widenNotebook": false
  },
  "varInspector": {
   "cols": {
    "lenName": 16,
    "lenType": 16,
    "lenVar": 40
   },
   "kernels_config": {
    "python": {
     "delete_cmd_postfix": "",
     "delete_cmd_prefix": "del ",
     "library": "var_list.py",
     "varRefreshCmd": "print(var_dic_list())"
    },
    "r": {
     "delete_cmd_postfix": ") ",
     "delete_cmd_prefix": "rm(",
     "library": "var_list.r",
     "varRefreshCmd": "cat(var_dic_list()) "
    }
   },
   "types_to_exclude": [
    "module",
    "function",
    "builtin_function_or_method",
    "instance",
    "_Feature"
   ],
   "window_display": false
  }
 },
 "nbformat": 4,
 "nbformat_minor": 2
}
